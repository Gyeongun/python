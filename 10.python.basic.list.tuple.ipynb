{
 "cells": [
  {
   "cell_type": "code",
   "execution_count": 3,
   "id": "f6c466c3",
   "metadata": {},
   "outputs": [
    {
     "name": "stdout",
     "output_type": "stream",
     "text": [
      "<class 'list'>\n",
      "[30, 40, 50, 60, 70, 80, 90]\n"
     ]
    }
   ],
   "source": [
    "a = [30,40,50,60,70,80,90]\n",
    "print(type(a))\n",
    "print(a)"
   ]
  },
  {
   "cell_type": "code",
   "execution_count": 4,
   "id": "d16311ef",
   "metadata": {},
   "outputs": [
    {
     "name": "stdout",
     "output_type": "stream",
     "text": [
      "['gu.han', 1, 145.7, True, False]\n"
     ]
    }
   ],
   "source": [
    "person = [\"gu.han\",1,145.7,True,False]\n",
    "print(person)"
   ]
  },
  {
   "cell_type": "code",
   "execution_count": 7,
   "id": "47faeea3",
   "metadata": {},
   "outputs": [
    {
     "name": "stdout",
     "output_type": "stream",
     "text": [
      "<class 'list'>\n",
      "[]\n",
      "<class 'list'>\n",
      "[]\n"
     ]
    }
   ],
   "source": [
    "a = []\n",
    "b = list()\n",
    "print(type(a))\n",
    "print(a)\n",
    "print(type(b))\n",
    "print(b)"
   ]
  },
  {
   "cell_type": "code",
   "execution_count": 11,
   "id": "70714938",
   "metadata": {},
   "outputs": [
    {
     "name": "stdout",
     "output_type": "stream",
     "text": [
      "range(0, 10)\n",
      "<class 'range'>\n"
     ]
    }
   ],
   "source": [
    "#연속된 수 생성\n",
    "a = range(10)\n",
    "print(a)\n",
    "print(type(a))"
   ]
  },
  {
   "cell_type": "code",
   "execution_count": 13,
   "id": "4616f3d3",
   "metadata": {},
   "outputs": [
    {
     "name": "stdout",
     "output_type": "stream",
     "text": [
      "[0, 1, 2, 3, 4, 5, 6, 7, 8, 9]\n"
     ]
    }
   ],
   "source": [
    "a = list(range(10))\n",
    "print(a)"
   ]
  },
  {
   "cell_type": "code",
   "execution_count": 14,
   "id": "8d3556b6",
   "metadata": {},
   "outputs": [
    {
     "name": "stdout",
     "output_type": "stream",
     "text": [
      "[5, 6, 7, 8, 9, 10, 11]\n"
     ]
    }
   ],
   "source": [
    "a = list(range(5,12))\n",
    "print(a)"
   ]
  },
  {
   "cell_type": "code",
   "execution_count": 15,
   "id": "173156b1",
   "metadata": {},
   "outputs": [
    {
     "name": "stdout",
     "output_type": "stream",
     "text": [
      "[-4, -2, 0, 2, 4, 6, 8]\n"
     ]
    }
   ],
   "source": [
    "a = list(range(-4,10,2))\n",
    "print(a)"
   ]
  },
  {
   "cell_type": "code",
   "execution_count": 16,
   "id": "e8c1797f",
   "metadata": {},
   "outputs": [
    {
     "name": "stdout",
     "output_type": "stream",
     "text": [
      "[10, 9, 8, 7, 6, 5, 4, 3, 2, 1]\n"
     ]
    }
   ],
   "source": [
    "a = list(range(10,0,-1))\n",
    "print(a)"
   ]
  },
  {
   "cell_type": "code",
   "execution_count": 17,
   "id": "3889b627",
   "metadata": {},
   "outputs": [],
   "source": [
    "#tuple\n",
    "#적제데이터 변경,추가,삭제 불가(read only list)"
   ]
  },
  {
   "cell_type": "code",
   "execution_count": 18,
   "id": "c63d1568",
   "metadata": {},
   "outputs": [
    {
     "name": "stdout",
     "output_type": "stream",
     "text": [
      "<class 'tuple'>\n",
      "(30, 40, 50, 60, 70, 80, 90)\n"
     ]
    }
   ],
   "source": [
    "a = (30,40,50,60,70,80,90)\n",
    "print(type(a))\n",
    "print(a)"
   ]
  },
  {
   "cell_type": "code",
   "execution_count": 20,
   "id": "4986b93b",
   "metadata": {},
   "outputs": [
    {
     "name": "stdout",
     "output_type": "stream",
     "text": [
      "<class 'tuple'>\n",
      "('gu.han', 1, 145.7, True, False)\n"
     ]
    }
   ],
   "source": [
    "person = (\"gu.han\",1,145.7,True,False)\n",
    "print(type(person))\n",
    "print(person)"
   ]
  },
  {
   "cell_type": "code",
   "execution_count": 21,
   "id": "e8703683",
   "metadata": {},
   "outputs": [
    {
     "name": "stdout",
     "output_type": "stream",
     "text": [
      "<class 'int'>\n"
     ]
    }
   ],
   "source": [
    "#값이 하나인경우 튜플리아닌, 값이됨\n",
    "print(type((38)))"
   ]
  },
  {
   "cell_type": "code",
   "execution_count": 22,
   "id": "9fc99d09",
   "metadata": {},
   "outputs": [
    {
     "name": "stdout",
     "output_type": "stream",
     "text": [
      "<class 'tuple'>\n"
     ]
    }
   ],
   "source": [
    "print(type((38,)))"
   ]
  },
  {
   "cell_type": "code",
   "execution_count": 24,
   "id": "d43862b5",
   "metadata": {},
   "outputs": [
    {
     "name": "stdout",
     "output_type": "stream",
     "text": [
      "(5, 6, 7, 8, 9, 10, 11)\n"
     ]
    }
   ],
   "source": [
    "a = tuple(range(5,12))\n",
    "print(a)"
   ]
  },
  {
   "cell_type": "code",
   "execution_count": 25,
   "id": "6c865b50",
   "metadata": {},
   "outputs": [
    {
     "name": "stdout",
     "output_type": "stream",
     "text": [
      "(-4, -2, 0, 2, 4, 6, 8)\n"
     ]
    }
   ],
   "source": [
    "a = tuple(range(-4,10,2))\n",
    "print(a)"
   ]
  },
  {
   "cell_type": "code",
   "execution_count": 26,
   "id": "41e03692",
   "metadata": {},
   "outputs": [],
   "source": [
    "#make tuple->list or list->tuple"
   ]
  },
  {
   "cell_type": "code",
   "execution_count": 27,
   "id": "bde59af8",
   "metadata": {},
   "outputs": [
    {
     "data": {
      "text/plain": [
       "(1, 2, 3)"
      ]
     },
     "execution_count": 27,
     "metadata": {},
     "output_type": "execute_result"
    }
   ],
   "source": [
    "a = [1,2,3]\n",
    "tuple(a)"
   ]
  },
  {
   "cell_type": "code",
   "execution_count": 28,
   "id": "1eb7457c",
   "metadata": {},
   "outputs": [
    {
     "data": {
      "text/plain": [
       "[1, 2, 3]"
      ]
     },
     "execution_count": 28,
     "metadata": {},
     "output_type": "execute_result"
    }
   ],
   "source": [
    "a = (1,2,3)\n",
    "list(a)"
   ]
  },
  {
   "cell_type": "code",
   "execution_count": 29,
   "id": "fd5fe94e",
   "metadata": {},
   "outputs": [
    {
     "data": {
      "text/plain": [
       "['H', 'e', 'l', 'l', 'o', ' ', 'P', 'y', 't', 'h', 'o', 'n', '!']"
      ]
     },
     "execution_count": 29,
     "metadata": {},
     "output_type": "execute_result"
    }
   ],
   "source": [
    "list(\"Hello Python!\")"
   ]
  },
  {
   "cell_type": "code",
   "execution_count": 30,
   "id": "9e481cd7",
   "metadata": {},
   "outputs": [
    {
     "data": {
      "text/plain": [
       "('H', 'e', 'l', 'l', 'o', ' ', 'P', 'y', 't', 'h', 'o', 'n', '!')"
      ]
     },
     "execution_count": 30,
     "metadata": {},
     "output_type": "execute_result"
    }
   ],
   "source": [
    "tuple(\"Hello Python!\")"
   ]
  },
  {
   "cell_type": "code",
   "execution_count": 36,
   "id": "c701284d",
   "metadata": {},
   "outputs": [
    {
     "name": "stdout",
     "output_type": "stream",
     "text": [
      "1 2 3\n"
     ]
    }
   ],
   "source": [
    "a,b,c = [1,2,3]\n",
    "print(a,b,c)"
   ]
  },
  {
   "cell_type": "code",
   "execution_count": 37,
   "id": "2e924a4c",
   "metadata": {},
   "outputs": [
    {
     "name": "stdout",
     "output_type": "stream",
     "text": [
      "1 2 3\n"
     ]
    }
   ],
   "source": [
    "a,b,c = (1,2,3)\n",
    "print(a,b,c)"
   ]
  },
  {
   "cell_type": "code",
   "execution_count": 38,
   "id": "890b6b55",
   "metadata": {},
   "outputs": [
    {
     "name": "stdout",
     "output_type": "stream",
     "text": [
      "1 2 3\n"
     ]
    }
   ],
   "source": [
    "#list unpacking - list eliment 변수여러개 할당\n",
    "x = [1,2,3]\n",
    "a,b,c = x\n",
    "print(a,b,c)"
   ]
  },
  {
   "cell_type": "code",
   "execution_count": 39,
   "id": "cb43fd5c",
   "metadata": {},
   "outputs": [
    {
     "name": "stdout",
     "output_type": "stream",
     "text": [
      "1 2 30\n"
     ]
    }
   ],
   "source": [
    "#tuple unpacking\n",
    "x = (1,2,30)\n",
    "a,b,c = x\n",
    "print(a,b,c)"
   ]
  },
  {
   "cell_type": "code",
   "execution_count": 40,
   "id": "1c5a559a",
   "metadata": {},
   "outputs": [
    {
     "name": "stdout",
     "output_type": "stream",
     "text": [
      "10,20\n"
     ]
    },
    {
     "data": {
      "text/plain": [
       "['10,20']"
      ]
     },
     "execution_count": 40,
     "metadata": {},
     "output_type": "execute_result"
    }
   ],
   "source": [
    "input().split()"
   ]
  },
  {
   "cell_type": "code",
   "execution_count": 42,
   "id": "792aa412",
   "metadata": {},
   "outputs": [
    {
     "name": "stdout",
     "output_type": "stream",
     "text": [
      "10,20\n",
      "<class 'list'>\n"
     ]
    }
   ],
   "source": [
    "x = input().split()\n",
    "print(type(x))"
   ]
  },
  {
   "cell_type": "code",
   "execution_count": 45,
   "id": "57684fbe",
   "metadata": {},
   "outputs": [
    {
     "name": "stdout",
     "output_type": "stream",
     "text": [
      "<class 'list'> [1, 2, 3]\n",
      "<class 'tuple'> (4, 5, 6)\n"
     ]
    }
   ],
   "source": [
    "#list packing - single variable에 list할당\n",
    "#tuple packing\n",
    "\n",
    "a = [1,2,3]\n",
    "b = (4,5,6)\n",
    "print(type(a),a)\n",
    "print(type(b),b)"
   ]
  },
  {
   "cell_type": "code",
   "execution_count": 49,
   "id": "f4d697bb",
   "metadata": {},
   "outputs": [
    {
     "name": "stdout",
     "output_type": "stream",
     "text": [
      "[5, 3, 1, -1, -3, -5, -7, -9]\n"
     ]
    }
   ],
   "source": [
    "a = list(range(5,-10,-2))\n",
    "print(a)"
   ]
  },
  {
   "cell_type": "code",
   "execution_count": 50,
   "id": "39f29101",
   "metadata": {},
   "outputs": [
    {
     "name": "stdout",
     "output_type": "stream",
     "text": [
      "(-10, -8, -6, -4, -2, 0, 2, 4, 6, 8)\n"
     ]
    }
   ],
   "source": [
    "a = tuple(range(-10,9,2))\n",
    "print(a)"
   ]
  },
  {
   "cell_type": "code",
   "execution_count": null,
   "id": "8398ca84",
   "metadata": {},
   "outputs": [],
   "source": []
  }
 ],
 "metadata": {
  "kernelspec": {
   "display_name": "Python 3 (ipykernel)",
   "language": "python",
   "name": "python3"
  },
  "language_info": {
   "codemirror_mode": {
    "name": "ipython",
    "version": 3
   },
   "file_extension": ".py",
   "mimetype": "text/x-python",
   "name": "python",
   "nbconvert_exporter": "python",
   "pygments_lexer": "ipython3",
   "version": "3.9.12"
  }
 },
 "nbformat": 4,
 "nbformat_minor": 5
}
