{
 "cells": [
  {
   "cell_type": "code",
   "execution_count": 22,
   "id": "9bc27b40",
   "metadata": {},
   "outputs": [
    {
     "name": "stdout",
     "output_type": "stream",
     "text": [
      "Hello World! 0\n",
      "Hello World! 1\n",
      "Hello World! 2\n",
      "Hello World! 3\n",
      "Hello World! 4\n",
      "Hello World! 5\n",
      "Hello World! 6\n",
      "Hello World! 7\n",
      "Hello World! 8\n",
      "Hello World! 9\n"
     ]
    }
   ],
   "source": [
    "for i in range(10):\n",
    "    print(\"Hello World!\", i)"
   ]
  },
  {
   "cell_type": "code",
   "execution_count": 6,
   "id": "4ccb4e45",
   "metadata": {},
   "outputs": [
    {
     "name": "stdout",
     "output_type": "stream",
     "text": [
      "Hello, World! 5\n",
      "Hello, World! 6\n",
      "Hello, World! 7\n",
      "Hello, World! 8\n",
      "Hello, World! 9\n"
     ]
    }
   ],
   "source": [
    "for i in range(5,10):\n",
    "    print(\"Hello, World!\", i)\n"
   ]
  },
  {
   "cell_type": "code",
   "execution_count": 7,
   "id": "0c9b8c77",
   "metadata": {},
   "outputs": [
    {
     "data": {
      "text/plain": [
       "range(0, 10)"
      ]
     },
     "execution_count": 7,
     "metadata": {},
     "output_type": "execute_result"
    }
   ],
   "source": [
    "range(10)"
   ]
  },
  {
   "cell_type": "code",
   "execution_count": 8,
   "id": "db4632ee",
   "metadata": {},
   "outputs": [
    {
     "name": "stdout",
     "output_type": "stream",
     "text": [
      "Hello, World! 0\n",
      "Hello, World! 2\n",
      "Hello, World! 4\n",
      "Hello, World! 6\n",
      "Hello, World! 8\n"
     ]
    }
   ],
   "source": [
    "for i in range(0,10,2):\n",
    "    print(\"Hello, World!\", i)"
   ]
  },
  {
   "cell_type": "code",
   "execution_count": 10,
   "id": "f1d0464d",
   "metadata": {},
   "outputs": [],
   "source": [
    "for i in range(10,0):\n",
    "    print(\"Hello, World!\", i)"
   ]
  },
  {
   "cell_type": "code",
   "execution_count": 11,
   "id": "37517d37",
   "metadata": {},
   "outputs": [
    {
     "name": "stdout",
     "output_type": "stream",
     "text": [
      "Hello, World! 10\n",
      "Hello, World! 9\n",
      "Hello, World! 8\n",
      "Hello, World! 7\n",
      "Hello, World! 6\n",
      "Hello, World! 5\n",
      "Hello, World! 4\n",
      "Hello, World! 3\n",
      "Hello, World! 2\n",
      "Hello, World! 1\n"
     ]
    }
   ],
   "source": [
    "for i in range(10,0,-1):\n",
    "    print(\"Hello, World!\", i)"
   ]
  },
  {
   "cell_type": "code",
   "execution_count": 12,
   "id": "df66e697",
   "metadata": {},
   "outputs": [
    {
     "name": "stdout",
     "output_type": "stream",
     "text": [
      "Hello, World! 9\n",
      "Hello, World! 8\n",
      "Hello, World! 7\n",
      "Hello, World! 6\n",
      "Hello, World! 5\n",
      "Hello, World! 4\n",
      "Hello, World! 3\n",
      "Hello, World! 2\n",
      "Hello, World! 1\n",
      "Hello, World! 0\n"
     ]
    }
   ],
   "source": [
    "for i in reversed(range(10)):\n",
    "    print(\"Hello, World!\", i)"
   ]
  },
  {
   "cell_type": "code",
   "execution_count": 13,
   "id": "dbf3699f",
   "metadata": {},
   "outputs": [
    {
     "name": "stdout",
     "output_type": "stream",
     "text": [
      "Hello, World! 0\n",
      "Hello, World! 1\n",
      "Hello, World! 2\n",
      "Hello, World! 3\n",
      "Hello, World! 4\n",
      "Hello, World! 5\n",
      "Hello, World! 6\n",
      "Hello, World! 7\n",
      "Hello, World! 8\n",
      "Hello, World! 9\n"
     ]
    }
   ],
   "source": [
    "for i in range(10):\n",
    "    print(\"Hello, World!\", i)\n",
    "    i = 10"
   ]
  },
  {
   "cell_type": "code",
   "execution_count": 14,
   "id": "7e876352",
   "metadata": {},
   "outputs": [
    {
     "name": "stdout",
     "output_type": "stream",
     "text": [
      "10\n",
      "20\n",
      "30\n",
      "40\n",
      "50\n"
     ]
    }
   ],
   "source": [
    "a = [10,20,30,40,50]\n",
    "for i in a:\n",
    "    print(i)"
   ]
  },
  {
   "cell_type": "code",
   "execution_count": 15,
   "id": "906b4c33",
   "metadata": {},
   "outputs": [
    {
     "name": "stdout",
     "output_type": "stream",
     "text": [
      "apple\n",
      "orange\n",
      "grape\n"
     ]
    }
   ],
   "source": [
    "a = ['apple','orange','grape']\n",
    "for i in a:\n",
    "    print(i)"
   ]
  },
  {
   "cell_type": "code",
   "execution_count": 16,
   "id": "41747871",
   "metadata": {},
   "outputs": [
    {
     "name": "stdout",
     "output_type": "stream",
     "text": [
      "python"
     ]
    }
   ],
   "source": [
    "for letter in 'python':\n",
    "    print(letter, end='')"
   ]
  },
  {
   "cell_type": "code",
   "execution_count": 17,
   "id": "4f894016",
   "metadata": {},
   "outputs": [
    {
     "name": "stdout",
     "output_type": "stream",
     "text": [
      "nohtyp"
     ]
    }
   ],
   "source": [
    "for letter in reversed('python'):\n",
    "    print(letter, end='')"
   ]
  },
  {
   "cell_type": "code",
   "execution_count": 18,
   "id": "010cd7e7",
   "metadata": {},
   "outputs": [],
   "source": [
    "# while"
   ]
  },
  {
   "cell_type": "code",
   "execution_count": 27,
   "id": "62001e32",
   "metadata": {},
   "outputs": [
    {
     "name": "stdout",
     "output_type": "stream",
     "text": [
      "Hello World!\n",
      "Hello World!\n",
      "Hello World!\n",
      "Hello World!\n",
      "Hello World!\n",
      "Hello World!\n",
      "Hello World!\n",
      "Hello World!\n",
      "Hello World!\n",
      "Hello World!\n"
     ]
    }
   ],
   "source": [
    "i = 0\n",
    "while i < 10:\n",
    "    print(\"Hello World!\")\n",
    "    i += 1"
   ]
  },
  {
   "cell_type": "code",
   "execution_count": 28,
   "id": "16895f14",
   "metadata": {},
   "outputs": [
    {
     "data": {
      "text/plain": [
       "0.5525851049562878"
      ]
     },
     "execution_count": 28,
     "metadata": {},
     "output_type": "execute_result"
    }
   ],
   "source": [
    "import random\n",
    "\n",
    "random.random()"
   ]
  },
  {
   "cell_type": "code",
   "execution_count": 29,
   "id": "e7cab284",
   "metadata": {},
   "outputs": [
    {
     "data": {
      "text/plain": [
       "4"
      ]
     },
     "execution_count": 29,
     "metadata": {},
     "output_type": "execute_result"
    }
   ],
   "source": [
    "random.randint(1,6)"
   ]
  },
  {
   "cell_type": "code",
   "execution_count": 30,
   "id": "c85527ce",
   "metadata": {},
   "outputs": [
    {
     "name": "stdout",
     "output_type": "stream",
     "text": [
      "6\n",
      "6\n",
      "6\n",
      "6\n",
      "1\n",
      "4\n",
      "5\n",
      "4\n",
      "1\n",
      "2\n",
      "6\n",
      "6\n",
      "1\n",
      "5\n",
      "5\n",
      "1\n",
      "5\n",
      "3\n"
     ]
    }
   ],
   "source": [
    "i = 0\n",
    "while i != 3:\n",
    "    i = random.randint(1,6)\n",
    "    print(i)"
   ]
  },
  {
   "cell_type": "code",
   "execution_count": 31,
   "id": "5fefc586",
   "metadata": {},
   "outputs": [
    {
     "data": {
      "text/plain": [
       "3"
      ]
     },
     "execution_count": 31,
     "metadata": {},
     "output_type": "execute_result"
    }
   ],
   "source": [
    "dice = [1,2,3,4,5]\n",
    "random.choice(dice)"
   ]
  },
  {
   "cell_type": "code",
   "execution_count": 32,
   "id": "f4e73c18",
   "metadata": {},
   "outputs": [
    {
     "name": "stdout",
     "output_type": "stream",
     "text": [
      "0\n",
      "1\n",
      "2\n",
      "3\n",
      "4\n",
      "5\n",
      "6\n",
      "7\n",
      "8\n",
      "9\n",
      "10\n"
     ]
    }
   ],
   "source": [
    "for i in range(10000000):\n",
    "    print(i)\n",
    "    if i == 10:\n",
    "        break"
   ]
  },
  {
   "cell_type": "code",
   "execution_count": 34,
   "id": "a59de5ef",
   "metadata": {},
   "outputs": [
    {
     "name": "stdout",
     "output_type": "stream",
     "text": [
      "1\n",
      "3\n",
      "5\n",
      "7\n",
      "9\n"
     ]
    }
   ],
   "source": [
    "for i in range(10):\n",
    "    if i % 2 == 0:\n",
    "        continue\n",
    "        \n",
    "    print(i)"
   ]
  },
  {
   "cell_type": "code",
   "execution_count": null,
   "id": "a130d7cb",
   "metadata": {},
   "outputs": [],
   "source": []
  }
 ],
 "metadata": {
  "kernelspec": {
   "display_name": "Python 3 (ipykernel)",
   "language": "python",
   "name": "python3"
  },
  "language_info": {
   "codemirror_mode": {
    "name": "ipython",
    "version": 3
   },
   "file_extension": ".py",
   "mimetype": "text/x-python",
   "name": "python",
   "nbconvert_exporter": "python",
   "pygments_lexer": "ipython3",
   "version": "3.9.12"
  }
 },
 "nbformat": 4,
 "nbformat_minor": 5
}
