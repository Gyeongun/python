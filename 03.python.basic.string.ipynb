{
 "cells": [
  {
   "cell_type": "code",
   "execution_count": 2,
   "id": "c236ddbe",
   "metadata": {},
   "outputs": [
    {
     "name": "stdout",
     "output_type": "stream",
     "text": [
      "'Hello World!''\n"
     ]
    }
   ],
   "source": [
    "print(\"'Hello World!''\")"
   ]
  },
  {
   "cell_type": "code",
   "execution_count": 10,
   "id": "8072b21a",
   "metadata": {},
   "outputs": [
    {
     "name": "stdout",
     "output_type": "stream",
     "text": [
      "Hello World!\n"
     ]
    }
   ],
   "source": [
    "print(\"\"\"Hello World!\"\"\")"
   ]
  },
  {
   "cell_type": "code",
   "execution_count": 17,
   "id": "48d52d05",
   "metadata": {},
   "outputs": [
    {
     "name": "stdout",
     "output_type": "stream",
     "text": [
      "\"Hello World!\"\n"
     ]
    }
   ],
   "source": [
    "print('\"Hello World!\"')"
   ]
  },
  {
   "cell_type": "code",
   "execution_count": 13,
   "id": "1bc4b8b5",
   "metadata": {},
   "outputs": [
    {
     "name": "stdout",
     "output_type": "stream",
     "text": [
      "안녕하세요\n",
      "헬로우\n",
      "파이썬\n",
      "\n"
     ]
    }
   ],
   "source": [
    "str = '''안녕하세요\n",
    "헬로우\n",
    "파이썬\n",
    "'''\n",
    "print(str)"
   ]
  },
  {
   "cell_type": "code",
   "execution_count": 14,
   "id": "7ced07d5",
   "metadata": {},
   "outputs": [
    {
     "name": "stdout",
     "output_type": "stream",
     "text": [
      "안녕하세요\n",
      "헬로우\n",
      "파이썬\n",
      "\n"
     ]
    }
   ],
   "source": [
    "str = \"\"\"안녕하세요\n",
    "헬로우\n",
    "파이썬\n",
    "\"\"\"\n",
    "print(str)"
   ]
  },
  {
   "cell_type": "code",
   "execution_count": 16,
   "id": "80b93def",
   "metadata": {},
   "outputs": [
    {
     "name": "stdout",
     "output_type": "stream",
     "text": [
      "\"Hello World!\"\n"
     ]
    }
   ],
   "source": [
    "print('\"Hello World!\"')"
   ]
  },
  {
   "cell_type": "code",
   "execution_count": 18,
   "id": "1640cef5",
   "metadata": {},
   "outputs": [
    {
     "ename": "SyntaxError",
     "evalue": "invalid syntax (4086409273.py, line 1)",
     "output_type": "error",
     "traceback": [
      "\u001b[0;36m  Input \u001b[0;32mIn [18]\u001b[0;36m\u001b[0m\n\u001b[0;31m    print('Python isn't difficult!')\u001b[0m\n\u001b[0m                      ^\u001b[0m\n\u001b[0;31mSyntaxError\u001b[0m\u001b[0;31m:\u001b[0m invalid syntax\n"
     ]
    }
   ],
   "source": [
    "print('Python isn't difficult!')"
   ]
  },
  {
   "cell_type": "code",
   "execution_count": 26,
   "id": "b0115002",
   "metadata": {},
   "outputs": [
    {
     "name": "stdout",
     "output_type": "stream",
     "text": [
      "Python isn't difficult!\n",
      "Python isn't difficult!\n"
     ]
    }
   ],
   "source": [
    "print('Python isn\\'t difficult!')\n",
    "print(\"Python isn't difficult!\")"
   ]
  },
  {
   "cell_type": "code",
   "execution_count": 25,
   "id": "3c55b385",
   "metadata": {},
   "outputs": [
    {
     "name": "stdout",
     "output_type": "stream",
     "text": [
      "\"안녕하세요.\"\n",
      "'파이썬'입니다.\n",
      "Hello\n",
      "'Python'\n",
      "Hello, 'Python'\n"
     ]
    }
   ],
   "source": [
    "single_quoto = '''\"안녕하세요.\"\n",
    "'파이썬'입니다.'''\n",
    "double_quoto1 = \"\"\"Hello\n",
    "'Python'\"\"\"\n",
    "\n",
    "double_quoto2 = \"\"\"Hello, 'Python'\"\"\"\n",
    "\n",
    "print(single_quoto)\n",
    "print(double_quoto1)\n",
    "print(double_quoto2)"
   ]
  },
  {
   "cell_type": "code",
   "execution_count": null,
   "id": "64137006",
   "metadata": {},
   "outputs": [],
   "source": []
  }
 ],
 "metadata": {
  "kernelspec": {
   "display_name": "Python 3 (ipykernel)",
   "language": "python",
   "name": "python3"
  },
  "language_info": {
   "codemirror_mode": {
    "name": "ipython",
    "version": 3
   },
   "file_extension": ".py",
   "mimetype": "text/x-python",
   "name": "python",
   "nbconvert_exporter": "python",
   "pygments_lexer": "ipython3",
   "version": "3.9.12"
  }
 },
 "nbformat": 4,
 "nbformat_minor": 5
}
