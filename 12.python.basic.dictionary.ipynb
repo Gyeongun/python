{
 "cells": [
  {
   "cell_type": "code",
   "execution_count": 17,
   "id": "7da155e4",
   "metadata": {},
   "outputs": [
    {
     "name": "stdout",
     "output_type": "stream",
     "text": [
      "<class 'dict'> 800\n"
     ]
    }
   ],
   "source": [
    "lux = {'health': 32,'mna': 334,'melee': 550,'armor': 18.72,'health': 800}\n",
    "\n",
    "print(type(lux),lux['health']) "
   ]
  },
  {
   "cell_type": "code",
   "execution_count": 18,
   "id": "00c69f0f",
   "metadata": {},
   "outputs": [
    {
     "ename": "TypeError",
     "evalue": "unhashable type: 'list'",
     "output_type": "error",
     "traceback": [
      "\u001b[0;31m---------------------------------------------------------------------------\u001b[0m",
      "\u001b[0;31mTypeError\u001b[0m                                 Traceback (most recent call last)",
      "Input \u001b[0;32mIn [18]\u001b[0m, in \u001b[0;36m<cell line: 1>\u001b[0;34m()\u001b[0m\n\u001b[0;32m----> 1\u001b[0m x \u001b[38;5;241m=\u001b[39m {[\u001b[38;5;241m10\u001b[39m,\u001b[38;5;241m20\u001b[39m]:\u001b[38;5;241m100\u001b[39m}\n",
      "\u001b[0;31mTypeError\u001b[0m: unhashable type: 'list'"
     ]
    }
   ],
   "source": [
    "x = {[10,20]:100}"
   ]
  },
  {
   "cell_type": "code",
   "execution_count": 19,
   "id": "6e3696b8",
   "metadata": {},
   "outputs": [
    {
     "ename": "TypeError",
     "evalue": "unhashable type: 'set'",
     "output_type": "error",
     "traceback": [
      "\u001b[0;31m---------------------------------------------------------------------------\u001b[0m",
      "\u001b[0;31mTypeError\u001b[0m                                 Traceback (most recent call last)",
      "Input \u001b[0;32mIn [19]\u001b[0m, in \u001b[0;36m<cell line: 1>\u001b[0;34m()\u001b[0m\n\u001b[0;32m----> 1\u001b[0m x \u001b[38;5;241m=\u001b[39m {{\u001b[38;5;241m10\u001b[39m,\u001b[38;5;241m20\u001b[39m}:\u001b[38;5;241m100\u001b[39m}\n",
      "\u001b[0;31mTypeError\u001b[0m: unhashable type: 'set'"
     ]
    }
   ],
   "source": [
    "x = {{10,20}:100}"
   ]
  },
  {
   "cell_type": "code",
   "execution_count": 20,
   "id": "25052904",
   "metadata": {},
   "outputs": [
    {
     "ename": "TypeError",
     "evalue": "unhashable type: 'dict'",
     "output_type": "error",
     "traceback": [
      "\u001b[0;31m---------------------------------------------------------------------------\u001b[0m",
      "\u001b[0;31mTypeError\u001b[0m                                 Traceback (most recent call last)",
      "Input \u001b[0;32mIn [20]\u001b[0m, in \u001b[0;36m<cell line: 1>\u001b[0;34m()\u001b[0m\n\u001b[0;32m----> 1\u001b[0m x \u001b[38;5;241m=\u001b[39m {{\u001b[38;5;124m'\u001b[39m\u001b[38;5;124ma\u001b[39m\u001b[38;5;124m'\u001b[39m:\u001b[38;5;241m20\u001b[39m}:\u001b[38;5;241m100\u001b[39m}\n",
      "\u001b[0;31mTypeError\u001b[0m: unhashable type: 'dict'"
     ]
    }
   ],
   "source": [
    "x = {{'a':20}:100}"
   ]
  },
  {
   "cell_type": "code",
   "execution_count": 21,
   "id": "7cb8e0a8",
   "metadata": {},
   "outputs": [
    {
     "name": "stdout",
     "output_type": "stream",
     "text": [
      "<class 'dict'> <class 'dict'>\n"
     ]
    }
   ],
   "source": [
    "x = {}\n",
    "y = dict()\n",
    "\n",
    "print(type(x),type(y))"
   ]
  },
  {
   "cell_type": "code",
   "execution_count": 27,
   "id": "fa234128",
   "metadata": {},
   "outputs": [],
   "source": [
    "dictionary = dict(health=32,mna=334,melee=550,armor=18.72)"
   ]
  },
  {
   "cell_type": "code",
   "execution_count": 28,
   "id": "0476893a",
   "metadata": {},
   "outputs": [
    {
     "ename": "SyntaxError",
     "evalue": "keyword argument repeated: health (3752957654.py, line 1)",
     "output_type": "error",
     "traceback": [
      "\u001b[0;36m  Input \u001b[0;32mIn [28]\u001b[0;36m\u001b[0m\n\u001b[0;31m    dictionary = dict(health=32,mna=334,melee=550,armor=18.72,health=800)\u001b[0m\n\u001b[0m                                                              ^\u001b[0m\n\u001b[0;31mSyntaxError\u001b[0m\u001b[0;31m:\u001b[0m keyword argument repeated: health\n"
     ]
    }
   ],
   "source": [
    "dictionary = dict(health=32,mna=334,melee=550,armor=18.72,health=800)"
   ]
  },
  {
   "cell_type": "code",
   "execution_count": 31,
   "id": "e6f1c011",
   "metadata": {},
   "outputs": [
    {
     "data": {
      "text/plain": [
       "{'health': 32, 'mna': 334, 'melee': 550, 'armor': 18.72}"
      ]
     },
     "execution_count": 31,
     "metadata": {},
     "output_type": "execute_result"
    }
   ],
   "source": [
    "#zip : internal function\n",
    "dictionary = dict(zip(['health','mna','melee','armor'],[32,334,550,18.72]))\n",
    "dictionary"
   ]
  },
  {
   "cell_type": "code",
   "execution_count": 33,
   "id": "49091116",
   "metadata": {},
   "outputs": [
    {
     "data": {
      "text/plain": [
       "{'health': 100, 'mna': 200, 'melee': 300, 'armor': 400}"
      ]
     },
     "execution_count": 33,
     "metadata": {},
     "output_type": "execute_result"
    }
   ],
   "source": [
    "dictionary['health'] = 100\n",
    "dictionary['mna'] = 200\n",
    "dictionary['melee'] = 300\n",
    "dictionary['armor'] = 400\n",
    "dictionary"
   ]
  },
  {
   "cell_type": "code",
   "execution_count": 34,
   "id": "37785175",
   "metadata": {},
   "outputs": [
    {
     "ename": "KeyError",
     "evalue": "'undefined key'",
     "output_type": "error",
     "traceback": [
      "\u001b[0;31m---------------------------------------------------------------------------\u001b[0m",
      "\u001b[0;31mKeyError\u001b[0m                                  Traceback (most recent call last)",
      "Input \u001b[0;32mIn [34]\u001b[0m, in \u001b[0;36m<cell line: 1>\u001b[0;34m()\u001b[0m\n\u001b[0;32m----> 1\u001b[0m \u001b[43mdictionary\u001b[49m\u001b[43m[\u001b[49m\u001b[38;5;124;43m'\u001b[39;49m\u001b[38;5;124;43mundefined key\u001b[39;49m\u001b[38;5;124;43m'\u001b[39;49m\u001b[43m]\u001b[49m\n",
      "\u001b[0;31mKeyError\u001b[0m: 'undefined key'"
     ]
    }
   ],
   "source": [
    "dictionary['undefined key']"
   ]
  },
  {
   "cell_type": "code",
   "execution_count": 35,
   "id": "b413f66b",
   "metadata": {},
   "outputs": [
    {
     "data": {
      "text/plain": [
       "True"
      ]
     },
     "execution_count": 35,
     "metadata": {},
     "output_type": "execute_result"
    }
   ],
   "source": [
    "'health' in dictionary"
   ]
  },
  {
   "cell_type": "code",
   "execution_count": 36,
   "id": "83adc14b",
   "metadata": {},
   "outputs": [
    {
     "data": {
      "text/plain": [
       "False"
      ]
     },
     "execution_count": 36,
     "metadata": {},
     "output_type": "execute_result"
    }
   ],
   "source": [
    "'health' not in dictionary"
   ]
  },
  {
   "cell_type": "code",
   "execution_count": 37,
   "id": "5ce4410e",
   "metadata": {},
   "outputs": [
    {
     "data": {
      "text/plain": [
       "4"
      ]
     },
     "execution_count": 37,
     "metadata": {},
     "output_type": "execute_result"
    }
   ],
   "source": [
    "len(dictionary)"
   ]
  },
  {
   "cell_type": "code",
   "execution_count": 40,
   "id": "dc54cda4",
   "metadata": {},
   "outputs": [
    {
     "name": "stdout",
     "output_type": "stream",
     "text": [
      "{'health': 32, 'mna': 334, 'melee': 550, 'armor': 18.72}\n",
      "{'health': 32, 'mna': 334, 'melee': 550, 'armor': 18.72}\n"
     ]
    }
   ],
   "source": [
    "#넣은 키의 순서 정렬\n",
    "from collections import OrderedDict\n",
    "dictionary = dict(health=32,mna=334,melee=550,armor=18.72)\n",
    "print(dictionary)\n",
    "\n",
    "OrderedDict(dictionary)\n",
    "print(dictionary)"
   ]
  },
  {
   "cell_type": "code",
   "execution_count": null,
   "id": "ff0c80e1",
   "metadata": {},
   "outputs": [],
   "source": []
  }
 ],
 "metadata": {
  "kernelspec": {
   "display_name": "Python 3 (ipykernel)",
   "language": "python",
   "name": "python3"
  },
  "language_info": {
   "codemirror_mode": {
    "name": "ipython",
    "version": 3
   },
   "file_extension": ".py",
   "mimetype": "text/x-python",
   "name": "python",
   "nbconvert_exporter": "python",
   "pygments_lexer": "ipython3",
   "version": "3.9.12"
  }
 },
 "nbformat": 4,
 "nbformat_minor": 5
}
